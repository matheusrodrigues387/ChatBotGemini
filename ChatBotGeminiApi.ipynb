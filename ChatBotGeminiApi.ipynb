{
  "nbformat": 4,
  "nbformat_minor": 0,
  "metadata": {
    "colab": {
      "provenance": [],
      "toc_visible": true,
      "authorship_tag": "ABX9TyOquz3d7i2/hQi6lvqGx32w",
      "include_colab_link": true
    },
    "kernelspec": {
      "name": "python3",
      "display_name": "Python 3"
    },
    "language_info": {
      "name": "python"
    }
  },
  "cells": [
    {
      "cell_type": "markdown",
      "metadata": {
        "id": "view-in-github",
        "colab_type": "text"
      },
      "source": [
        "<a href=\"https://colab.research.google.com/github/matheusrodrigues387/ChatBotGemini/blob/main/ChatBotGeminiApi.ipynb\" target=\"_parent\"><img src=\"https://colab.research.google.com/assets/colab-badge.svg\" alt=\"Open In Colab\"/></a>"
      ]
    },
    {
      "cell_type": "code",
      "execution_count": 31,
      "metadata": {
        "id": "Kj9ulJZFugqu"
      },
      "outputs": [],
      "source": [
        "import google.generativeai as genai\n",
        "from google.colab import userdata\n",
        "apiKey = userdata.get('geminiKey')\n",
        "\n",
        "# Configurações do modelo\n",
        "genai.configure(api_key=apiKey)\n",
        "\n",
        "# generation_config = {\n",
        "#     \"candidate_count\": 1,\n",
        "#     \"temperature\": 1,\n",
        "# }\n",
        "# safety_settings = {\n",
        "#     \"HARASSMENT\": \"BLOCK_NONE\",\n",
        "#     \"HATE\": \"BLOCK_NONE\",\n",
        "#     \"SEXUAL\": \"BLOCK_NONE\",\n",
        "#     \"DANGEROUS\": \"BLOCK_NONE\",\n",
        "# }\n",
        "\n",
        "# Listar modelos disponiveis\n",
        "# for i in genai.list_models():\n",
        "#   if 'generateContent' in i.supported_generation_methods:\n",
        "#     print(i.name)\n",
        "\n",
        "# Inicializando o modelo\n",
        "model = genai.GenerativeModel('gemini-pro')\n",
        "\n",
        "# Iniciando o chat\n",
        "chat = model.start_chat(history=[])"
      ]
    },
    {
      "cell_type": "code",
      "source": [
        "\n",
        "prompt = input(\"Faça sua pergunta: \")\n",
        "\n",
        "while prompt != \"fim\":\n",
        "  response = chat.send_message(prompt)\n",
        "  print(\"Resposta: \", response.text, \"\\n\")\n",
        "  prompt = input(\"Faça sua pergunta: \")"
      ],
      "metadata": {
        "colab": {
          "base_uri": "https://localhost:8080/",
          "height": 191
        },
        "id": "86QT6a5I1nk5",
        "outputId": "4d5f86ef-1e59-4c8a-b5d6-b7a0e281eb6d"
      },
      "execution_count": 32,
      "outputs": [
        {
          "name": "stdout",
          "output_type": "stream",
          "text": [
            "Faça sua pergunta: De quem é a musica Not Like Us ?\n",
            "Resposta:  Justin Timberlake \n",
            "\n",
            "Faça sua pergunta: De quem é a musica de rap Not like us ?\n",
            "Resposta:  Wale \n",
            "\n",
            "Faça sua pergunta: de quem é a musica euphoria ?\n",
            "Resposta:  Loreen \n",
            "\n",
            "Faça sua pergunta: fim\n"
          ]
        }
      ]
    }
  ]
}